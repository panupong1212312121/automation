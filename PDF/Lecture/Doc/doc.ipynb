{
 "cells": [
  {
   "cell_type": "markdown",
   "metadata": {},
   "source": [
    "https://docs.reportlab.com/reportlab/userguide/ch2_graphics/\n",
    "\n",
    "https://www.reportlab.com/docs/reportlab-userguide.pdf"
   ]
  }
 ],
 "metadata": {
  "kernelspec": {
   "display_name": "streamlitenv",
   "language": "python",
   "name": "python3"
  },
  "language_info": {
   "name": "python",
   "version": "3.12.2"
  }
 },
 "nbformat": 4,
 "nbformat_minor": 2
}
