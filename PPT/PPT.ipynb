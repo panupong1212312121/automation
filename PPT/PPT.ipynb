{
 "cells": [
  {
   "cell_type": "code",
   "execution_count": 1,
   "metadata": {},
   "outputs": [],
   "source": [
    "# pip install python-pptx"
   ]
  },
  {
   "cell_type": "markdown",
   "metadata": {},
   "source": [
    "Slide 1 : title"
   ]
  },
  {
   "cell_type": "code",
   "execution_count": 2,
   "metadata": {},
   "outputs": [],
   "source": [
    "from pptx import Presentation\n",
    "\n",
    "# เรียก class Presentation()\n",
    "pr1 = Presentation()\n",
    "\n",
    "# set layout type ที่เราสร้างการ refer\n",
    "slide1_register = pr1.slide_layouts[0]\n",
    "\n",
    "# add slide ตาม layout 'slide1_register'\n",
    "slide1 = pr1.slides.add_slide(slide1_register)\n",
    "\n",
    "# insert text in title and subtitle \n",
    "title1 = slide1.shapes.title\n",
    "subtitle = slide1.placeholders[1]\n",
    "\n",
    "title1.text = 'Boat :)'\n",
    "subtitle.text = 'Panupong :<'"
   ]
  },
  {
   "cell_type": "markdown",
   "metadata": {},
   "source": [
    "Slide 2 : bullet point "
   ]
  },
  {
   "cell_type": "code",
   "execution_count": 3,
   "metadata": {},
   "outputs": [],
   "source": [
    "# set layout type ที่เราสร้างการ refer\n",
    "slide2_register = pr1.slide_layouts[1]\n",
    "\n",
    "# add slide ตาม layout 'slide1_register'\n",
    "slide2 = pr1.slides.add_slide(slide2_register)\n",
    "\n",
    "# insert text in title and subtitle \n",
    "title2 = slide2.shapes.title\n",
    "title2.text = 'Now For Some Bullet Points'\n",
    "\n",
    "# demonstrate of insert hierachy of bullet point text\n",
    "bullet_point_box = slide2.shapes\n",
    "\n",
    "bullet_points_lv1 = bullet_point_box.placeholders[1]\n",
    "bullet_points_lv1.text = 'A'\n",
    "\n",
    "bullet_points_lv2 = bullet_points_lv1.text_frame.add_paragraph()\n",
    "bullet_points_lv2.text = 'B'\n",
    "bullet_points_lv2.level = 1\n",
    "\n",
    "bullet_points_lv3 = bullet_points_lv1.text_frame.add_paragraph()\n",
    "bullet_points_lv3.text = 'C'\n",
    "bullet_points_lv3.level = 2\n",
    "\n",
    "bullet_points_lv4 = bullet_points_lv1.text_frame.add_paragraph()\n",
    "bullet_points_lv4.text = 'D'\n",
    "bullet_points_lv4.level = 3"
   ]
  },
  {
   "cell_type": "markdown",
   "metadata": {},
   "source": [
    "slide 3 : img"
   ]
  },
  {
   "cell_type": "code",
   "execution_count": 4,
   "metadata": {},
   "outputs": [],
   "source": [
    "from pptx.util import Inches\n",
    "\n",
    "# set layout type ที่เราสร้างการ refer\n",
    "slide3_register = pr1.slide_layouts[5]\n",
    "\n",
    "# add slide ตาม layout 'slide1_register'\n",
    "slide3 = pr1.slides.add_slide(slide3_register)\n",
    "\n",
    "# insert text in title and subtitle \n",
    "title3 = slide3.shapes.title\n",
    "title3.text = 'Picture'\n",
    "\n",
    "# add image\n",
    "img = '../1.datasets/party_banner_0.png'\n",
    "\n",
    "from_left = Inches(3)\n",
    "from_top = Inches(2)\n",
    "add_picture = slide3.shapes.add_picture(img,from_left,from_top)"
   ]
  },
  {
   "cell_type": "markdown",
   "metadata": {},
   "source": [
    "Slide 4 : shape"
   ]
  },
  {
   "cell_type": "code",
   "execution_count": 5,
   "metadata": {},
   "outputs": [],
   "source": [
    "from pptx.enum.shapes import MSO_SHAPE\n",
    "from pptx.enum.dml import MSO_THEME_COLOR\n",
    "\n",
    "# set layout type ที่เราสร้างการ refer\n",
    "slide4_register = pr1.slide_layouts[5]\n",
    "\n",
    "# add slide ตาม layout 'slide1_register'\n",
    "slide4 = pr1.slides.add_slide(slide4_register)\n",
    "\n",
    "# insert text in title and subtitle \n",
    "title4 = slide4.shapes.title\n",
    "title4.text = 'Shapework'\n",
    "\n",
    "# create shapes\n",
    "left1 = top1 = width1 = height1 = Inches(2)\n",
    "add_shape1 = slide4.shapes.add_shape(MSO_SHAPE.ROUNDED_RECTANGLE,\n",
    "                                     left1,top1,width1,height1)\n",
    "\n",
    "left2 = Inches(6)\n",
    "top2 = width2 = height2 = Inches(2)\n",
    "arrow1 = slide4.shapes.add_shape(MSO_SHAPE.DOWN_ARROW,\n",
    "                                     left2,top2,width2,height2)\n",
    "\n",
    "# change color shape\n",
    "fill_arrow1 = arrow1.fill\n",
    "fill_arrow1.solid()\n",
    "fill_arrow1.fore_color.theme_color = MSO_THEME_COLOR.ACCENT_2\n",
    "\n",
    "# rotate shape \n",
    "arrow1.rotation = 90"
   ]
  },
  {
   "cell_type": "markdown",
   "metadata": {},
   "source": [
    "Slide 5 : chart"
   ]
  },
  {
   "cell_type": "code",
   "execution_count": 6,
   "metadata": {},
   "outputs": [],
   "source": [
    "from pptx.chart.data import CategoryChartData\n",
    "from pptx.enum.chart import XL_CHART_TYPE,XL_TICK_MARK\n",
    "from pptx.util import Pt\n",
    "\n",
    "# set layout type ที่เราสร้างการ refer\n",
    "slide5_register = pr1.slide_layouts[5]\n",
    "\n",
    "# add slide ตาม layout 'slide1_register'\n",
    "slide5 = pr1.slides.add_slide(slide5_register)\n",
    "\n",
    "# insert text in title and subtitle \n",
    "title5 = slide5.shapes.title\n",
    "title5.text = 'Graph'\n",
    "\n",
    "# build graph\n",
    "graph_info = CategoryChartData()\n",
    "graph_info.categories = ['A','B','C']\n",
    "graph_info.add_series('Series 1',(15,11,18))\n",
    "\n",
    "left_graph = Inches(2)\n",
    "top_graph = Inches(2)\n",
    "width_graph = Inches(6)\n",
    "height_graph = Inches(4)\n",
    "\n",
    "graph1_frame = slide5.shapes.add_chart(XL_CHART_TYPE.COLUMN_CLUSTERED,\n",
    "                        left_graph,top_graph,width_graph,height_graph,\n",
    "                        graph_info)\n",
    "\n",
    "category_axis = graph1_frame.chart.category_axis\n",
    "category_axis.has_major_gridlines = True\n",
    "category_axis.minor_tick_mark = XL_TICK_MARK.OUTSIDE\n",
    "category_axis.tick_labels.font.italic = True\n",
    "category_axis.tick_labels.font.size = Pt(24)"
   ]
  },
  {
   "cell_type": "markdown",
   "metadata": {},
   "source": [
    "Slide 6 "
   ]
  },
  {
   "cell_type": "code",
   "execution_count": 7,
   "metadata": {},
   "outputs": [],
   "source": [
    "# set layout type ที่เราสร้างการ refer\n",
    "slide6_register = pr1.slide_layouts[5]\n",
    "\n",
    "# add slide ตาม layout 'slide1_register'\n",
    "slide6 = pr1.slides.add_slide(slide6_register)\n",
    "\n",
    "# insert text in title and subtitle \n",
    "title6 = slide6.shapes.title\n",
    "title6.text = 'Table'\n",
    "\n",
    "# add table \n",
    "left_table = Inches(1)\n",
    "top_table = Inches(2)\n",
    "width_table = Inches(8)\n",
    "height_table = Inches(3)\n",
    "\n",
    "table1_frame = slide6.shapes.add_table(3,4,\n",
    "                                    left_graph,top_graph,width_graph,height_graph)\n",
    "\n",
    "table1 = table1_frame.table\n",
    "cell = table1.cell(0,0)\n",
    "cell.text = 'Title'\n",
    "\n",
    "cell2 = table1.cell(1,0)\n",
    "cell2.text = 'Value'\n",
    "\n",
    "cell3 = table1.cell(0,1)\n",
    "cell3.text = 'YOLO'"
   ]
  },
  {
   "cell_type": "markdown",
   "metadata": {},
   "source": [
    "Slide 7 : Hyperlinks"
   ]
  },
  {
   "cell_type": "code",
   "execution_count": 8,
   "metadata": {},
   "outputs": [],
   "source": [
    "# set layout type ที่เราสร้างการ refer\n",
    "slide7_register = pr1.slide_layouts[0]\n",
    "\n",
    "# add slide ตาม layout 'slide1_register'\n",
    "slide7 = pr1.slides.add_slide(slide7_register)\n",
    "\n",
    "# insert text in title and subtitle \n",
    "title7 = slide7.shapes.title\n",
    "title7.text = 'Hyperlinks'\n",
    "\n",
    "# add hyperlinks\n",
    "para1 = slide7.placeholders[1].text_frame.paragraphs[0]\n",
    "addrun1 = para1.add_run() # add features something เข้าไปใน para1 เพิ่ม \n",
    "addrun1.text = 'Google Hyperlink'\n",
    "hlink1 = addrun1.hyperlink\n",
    "hlink1.address = 'https://www.google.com/'\n",
    "\n",
    "pr1.save('../2.output/result_ppt/Test.pptx')"
   ]
  }
 ],
 "metadata": {
  "kernelspec": {
   "display_name": "streamlitenv",
   "language": "python",
   "name": "python3"
  },
  "language_info": {
   "codemirror_mode": {
    "name": "ipython",
    "version": 3
   },
   "file_extension": ".py",
   "mimetype": "text/x-python",
   "name": "python",
   "nbconvert_exporter": "python",
   "pygments_lexer": "ipython3",
   "version": "3.12.2"
  }
 },
 "nbformat": 4,
 "nbformat_minor": 2
}
