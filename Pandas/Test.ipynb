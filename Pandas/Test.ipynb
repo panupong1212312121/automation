{
 "cells": [
  {
   "cell_type": "markdown",
   "metadata": {},
   "source": [
    "https://pandas.pydata.org/pandas-docs/stable/user_guide/style.html\n",
    "\n",
    "# E.g. Styling df table before exporting to excel which still keep style"
   ]
  },
  {
   "cell_type": "code",
   "execution_count": 6,
   "metadata": {},
   "outputs": [
    {
     "data": {
      "text/html": [
       "<style type=\"text/css\">\n",
       "#T_2bf1a_row0_col0 {\n",
       "  background-color: #243392;\n",
       "  color: #f1f1f1;\n",
       "}\n",
       "#T_2bf1a_row0_col1, #T_2bf1a_row2_col1 {\n",
       "  background-color: #ffffd9;\n",
       "  color: #000000;\n",
       "}\n",
       "#T_2bf1a_row1_col0 {\n",
       "  background-color: #b9e4b5;\n",
       "  color: #000000;\n",
       "}\n",
       "#T_2bf1a_row1_col1 {\n",
       "  background-color: #2165ab;\n",
       "  color: #f1f1f1;\n",
       "}\n",
       "#T_2bf1a_row2_col0 {\n",
       "  background-color: #1d2e83;\n",
       "  color: #f1f1f1;\n",
       "}\n",
       "#T_2bf1a_row3_col0 {\n",
       "  background-color: #5bc0c0;\n",
       "  color: #000000;\n",
       "}\n",
       "#T_2bf1a_row3_col1 {\n",
       "  background-color: #a2dbb8;\n",
       "  color: #000000;\n",
       "}\n",
       "#T_2bf1a_row4_col0 {\n",
       "  background-color: #1f78b4;\n",
       "  color: #f1f1f1;\n",
       "}\n",
       "#T_2bf1a_row4_col1 {\n",
       "  background-color: #234da0;\n",
       "  color: #f1f1f1;\n",
       "}\n",
       "</style>\n",
       "<table id=\"T_2bf1a\">\n",
       "  <caption>Weather Conditions</caption>\n",
       "  <thead>\n",
       "    <tr>\n",
       "      <th class=\"blank level0\" >&nbsp;</th>\n",
       "      <th id=\"T_2bf1a_level0_col0\" class=\"col_heading level0 col0\" >Tokyo</th>\n",
       "      <th id=\"T_2bf1a_level0_col1\" class=\"col_heading level0 col1\" >Beijing</th>\n",
       "    </tr>\n",
       "  </thead>\n",
       "  <tbody>\n",
       "    <tr>\n",
       "      <th id=\"T_2bf1a_level0_row0\" class=\"row_heading level0 row0\" >Monday</th>\n",
       "      <td id=\"T_2bf1a_row0_col0\" class=\"data row0 col0\" >Heavy Rain</td>\n",
       "      <td id=\"T_2bf1a_row0_col1\" class=\"data row0 col1\" >Dry</td>\n",
       "    </tr>\n",
       "    <tr>\n",
       "      <th id=\"T_2bf1a_level0_row1\" class=\"row_heading level0 row1\" >Tuesday</th>\n",
       "      <td id=\"T_2bf1a_row1_col0\" class=\"data row1 col0\" >Rain</td>\n",
       "      <td id=\"T_2bf1a_row1_col1\" class=\"data row1 col1\" >Heavy Rain</td>\n",
       "    </tr>\n",
       "    <tr>\n",
       "      <th id=\"T_2bf1a_level0_row2\" class=\"row_heading level0 row2\" >Wednesday</th>\n",
       "      <td id=\"T_2bf1a_row2_col0\" class=\"data row2 col0\" >Heavy Rain</td>\n",
       "      <td id=\"T_2bf1a_row2_col1\" class=\"data row2 col1\" >Dry</td>\n",
       "    </tr>\n",
       "    <tr>\n",
       "      <th id=\"T_2bf1a_level0_row3\" class=\"row_heading level0 row3\" >Thursday</th>\n",
       "      <td id=\"T_2bf1a_row3_col0\" class=\"data row3 col0\" >Heavy Rain</td>\n",
       "      <td id=\"T_2bf1a_row3_col1\" class=\"data row3 col1\" >Rain</td>\n",
       "    </tr>\n",
       "    <tr>\n",
       "      <th id=\"T_2bf1a_level0_row4\" class=\"row_heading level0 row4\" >Friday</th>\n",
       "      <td id=\"T_2bf1a_row4_col0\" class=\"data row4 col0\" >Heavy Rain</td>\n",
       "      <td id=\"T_2bf1a_row4_col1\" class=\"data row4 col1\" >Heavy Rain</td>\n",
       "    </tr>\n",
       "  </tbody>\n",
       "</table>\n"
      ],
      "text/plain": [
       "<pandas.io.formats.style.Styler at 0x2180ff59f10>"
      ]
     },
     "execution_count": 6,
     "metadata": {},
     "output_type": "execute_result"
    }
   ],
   "source": [
    "import pandas as pd\n",
    "import numpy as np\n",
    "\n",
    "weather_df = pd.DataFrame(np.random.rand(10,2)*5,\n",
    "                          index=pd.date_range(start=\"2021-01-01\", periods=10),\n",
    "                          columns=[\"Tokyo\", \"Beijing\"])\n",
    "\n",
    "def rain_condition(v):\n",
    "    if v < 1.75:\n",
    "        return \"Dry\"\n",
    "    elif v < 2.75:\n",
    "        return \"Rain\"\n",
    "    return \"Heavy Rain\"\n",
    "\n",
    "def make_pretty(styler):\n",
    "    styler.set_caption(\"Weather Conditions\")\n",
    "    styler.format(rain_condition)\n",
    "    styler.format_index(lambda v: v.strftime(\"%A\"))\n",
    "    styler.background_gradient(axis=None, vmin=1, vmax=5, cmap=\"YlGnBu\")\n",
    "    return styler\n",
    "\n",
    "file = weather_df.loc[\"2021-01-04\":\"2021-01-08\"].style.pipe(make_pretty)\n",
    "file.to_excel('df.xlsx')\n",
    "file"
   ]
  }
 ],
 "metadata": {
  "kernelspec": {
   "display_name": "streamlitenv",
   "language": "python",
   "name": "python3"
  },
  "language_info": {
   "codemirror_mode": {
    "name": "ipython",
    "version": 3
   },
   "file_extension": ".py",
   "mimetype": "text/x-python",
   "name": "python",
   "nbconvert_exporter": "python",
   "pygments_lexer": "ipython3",
   "version": "3.12.2"
  }
 },
 "nbformat": 4,
 "nbformat_minor": 2
}
