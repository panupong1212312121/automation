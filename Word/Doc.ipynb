{
 "cells": [
  {
   "cell_type": "markdown",
   "metadata": {},
   "source": [
    "# Replace var in multiple .docx"
   ]
  },
  {
   "cell_type": "code",
   "execution_count": 7,
   "metadata": {},
   "outputs": [],
   "source": [
    "from datetime import datetime , timedelta\n",
    "from docxtpl import DocxTemplate,InlineImage\n",
    "from docx.shared import Inches\n",
    "\n",
    "data_template_path= r'C:\\Users\\Panupong Jindarat\\Documents\\GitHub\\automation\\datasets\\inviteTmpl.docx'\n",
    "\n",
    "doc = DocxTemplate(data_template_path)\n",
    "\n",
    "todayStr = datetime.today().strftime(\"%Y-%m-%d\")\n",
    "recipientName = ['Boat','Bank','Beat']\n",
    "evntDtStr = (datetime.today() + timedelta(days=3)).strftime(\"%d-%b-%Y\")\n",
    "venueStr = 'Samyan'\n",
    "senderName = 'Panupong_Depress'\n",
    "\n",
    "for idx,value in enumerate(recipientName):\n",
    "    context = {'todayStr': todayStr, \n",
    "                'recipientName': value, \n",
    "                'evntDtStr': evntDtStr, \n",
    "                'venueStr': venueStr,\n",
    "                'senderName': senderName,\n",
    "                'bannerImg' : InlineImage(doc, image_descriptor=r'C:\\Users\\Panupong Jindarat\\Documents\\GitHub\\automation\\datasets\\party_banner_0.png', width=Inches(20), height=Inches(10))}\n",
    "\n",
    "    doc.render(context) #เอา context ไปแปะในแต่ละ {{var}} ใน doc \n",
    "\n",
    "    exported_data_path = fr'C:\\Users\\Panupong Jindarat\\Documents\\GitHub\\automation\\result\\invitation_{idx}.docx'\n",
    "\n",
    "    doc.save(exported_data_path)"
   ]
  },
  {
   "cell_type": "markdown",
   "metadata": {},
   "source": [
    "# Replace Loop var in one .docx"
   ]
  },
  {
   "cell_type": "code",
   "execution_count": 14,
   "metadata": {},
   "outputs": [
    {
     "name": "stderr",
     "output_type": "stream",
     "text": [
      "100%|██████████| 1/1 [00:09<00:00,  9.39s/it]\n"
     ]
    },
    {
     "data": {
      "image/png": "[encoded data removed]",
      "text/plain": [
       "<Figure size 640x480 with 1 Axes>"
      ]
     },
     "metadata": {},
     "output_type": "display_data"
    }
   ],
   "source": [
    "from datetime import datetime\n",
    "import random\n",
    "from docx2pdf import convert\n",
    "import matplotlib.pyplot as plt\n",
    "from docxtpl import DocxTemplate, InlineImage\n",
    "\n",
    "# create a document object\n",
    "data_template_path= r'C:\\Users\\Panupong Jindarat\\Documents\\GitHub\\automation\\datasets\\reportTmpl.docx'\n",
    "\n",
    "doc = DocxTemplate(data_template_path)\n",
    "\n",
    "# create data for reports\n",
    "salesTblRows = []\n",
    "for k in range(10):\n",
    "    costPu = random.randint(1, 15)\n",
    "    nUnits = random.randint(100, 500)\n",
    "    salesTblRows.append({\"sNo\": k+1, \"name\": \"Item \"+str(k+1),\n",
    "                         \"cPu\": costPu, \"nUnits\": nUnits, \"revenue\": costPu*nUnits})\n",
    "\n",
    "topItems = [x[\"name\"] for x in sorted(salesTblRows, key=lambda x: x[\"revenue\"], reverse=True)][0:3]\n",
    "\n",
    "todayStr = datetime.now().strftime(\"%d-%b-%Y\")\n",
    "\n",
    "# create context to pass data to template\n",
    "context = {\n",
    "    \"reportDtStr\": todayStr,\n",
    "    \"salesTblRows\": salesTblRows,\n",
    "    \"topItemsRows\": topItems\n",
    "}\n",
    "\n",
    "image_path = r\"C:\\Users\\Panupong Jindarat\\Documents\\GitHub\\automation\\result\\trendImg.png\"\n",
    "\n",
    "# inject image into the context\n",
    "fig, ax = plt.subplots()\n",
    "ax.bar([x[\"name\"] for x in salesTblRows], [x[\"revenue\"] for x in salesTblRows])\n",
    "fig.tight_layout()\n",
    "fig.savefig(image_path)\n",
    "context['trendImg'] = InlineImage(doc, image_path)\n",
    "\n",
    "# render context into the document object\n",
    "doc.render(context)\n",
    "\n",
    "# save the document object as a word file\n",
    "reportWordPath = fr'C:\\Users\\Panupong Jindarat\\Documents\\GitHub\\automation\\result\\report_{todayStr}.docx'\n",
    "doc.save(reportWordPath)\n",
    "\n",
    "# convert the word file as pdf file\n",
    "convert(reportWordPath, reportWordPath.replace(\".docx\", \".pdf\")) # ถ้าไม่ทำแบบนี้ pdf เปิดไม่ได้"
   ]
  },
  {
   "cell_type": "code",
   "execution_count": 18,
   "metadata": {},
   "outputs": [
    {
     "name": "stderr",
     "output_type": "stream",
     "text": [
      "100%|██████████| 1/1 [00:05<00:00,  5.82s/it]\n",
      "100%|██████████| 1/1 [00:05<00:00,  5.25s/it]\n",
      "100%|██████████| 1/1 [00:03<00:00,  3.72s/it]\n",
      "100%|██████████| 1/1 [00:08<00:00,  8.45s/it]"
     ]
    },
    {
     "name": "stdout",
     "output_type": "stream",
     "text": [
      "execution complete...\n"
     ]
    },
    {
     "name": "stderr",
     "output_type": "stream",
     "text": [
      "\n"
     ]
    }
   ],
   "source": [
    "from docxtpl import DocxTemplate\n",
    "import datetime as dt\n",
    "from docx2pdf import convert\n",
    "import random\n",
    "\n",
    "customerObjects = [{\n",
    "    \"name\": \"Customer 1 Name\",\n",
    "    \"addressList\": [\n",
    "        [\"Address 1 Flat No.\", \"Address 1 Street\", \"Address 1 City, Pin code\"],\n",
    "        [\"Address 2 Flat No.\", \"Address 2 Street\", \"Address 2 City, Pin code\"],\n",
    "    ]},\n",
    "    {\"name\": \"Customer 2 Name\",\n",
    "     \"addressList\": [\n",
    "         [\"Address 3 Flat No.\", \"Address 3 Street\", \"Address 3 City, Pin code\"],\n",
    "         [\"Address 4 Flat No.\", \"Address 4 Street\", \"Address 4 City, Pin code\"],\n",
    "     ]}\n",
    "]\n",
    "\n",
    "# template word file path\n",
    "tmplPath = r\"C:\\Users\\Panupong Jindarat\\Documents\\GitHub\\automation\\datasets\\customerTmpl.docx\"\n",
    "\n",
    "# run for each customer in a for loop\n",
    "for cItr, cObj in enumerate(customerObjects):\n",
    "    # get customer score\n",
    "    cScore = random.randint(10, 90)\n",
    "    # create report for each customer address in a for loop\n",
    "    for addrItr in range(len(cObj[\"addressList\"])):\n",
    "        # create context dictionary\n",
    "        context = {\n",
    "            \"todayStr\": dt.datetime.now().strftime(\"%d-%b-%Y\"),\n",
    "            \"recipientName\": cObj['name'],\n",
    "            \"addressList\": cObj['addressList'],\n",
    "            \"activeAddrInd\": addrItr,\n",
    "            \"score\": cScore\n",
    "        }\n",
    "\n",
    "        # create a document object\n",
    "        doc = DocxTemplate(tmplPath)\n",
    "\n",
    "        # render context into the document object\n",
    "        doc.render(context)\n",
    "\n",
    "        # save the document object as a word file\n",
    "        resultFilePath = fr'C:\\Users\\Panupong Jindarat\\Documents\\GitHub\\automation\\result\\report_{cItr}_{addrItr}.docx'\n",
    "        doc.save(resultFilePath)\n",
    "\n",
    "        # convert the word file into pdf\n",
    "        pdfFilePath = resultFilePath.replace('.docx', '.pdf')\n",
    "        convert(resultFilePath, pdfFilePath)\n",
    "\n",
    "        # send the pdf file as email if required\n",
    "\n",
    "print(\"execution complete...\")"
   ]
  },
  {
   "cell_type": "markdown",
   "metadata": {},
   "source": [
    "# Convert .docx -> .pdf"
   ]
  },
  {
   "cell_type": "code",
   "execution_count": 16,
   "metadata": {},
   "outputs": [
    {
     "name": "stderr",
     "output_type": "stream",
     "text": [
      "100%|██████████| 14/14 [00:13<00:00,  1.07it/s]\n"
     ]
    }
   ],
   "source": [
    "import docx2pdf\n",
    "\n",
    "# start = r'C:\\Users\\Panupong Jindarat\\Documents\\GitHub\\automation\\result\\report_19-Apr-2024.docx'\n",
    "# end = r'C:\\Users\\Panupong Jindarat\\Documents\\GitHub\\automation\\word\\report_19-Apr-2024.pdf'\n",
    "\n",
    "start = r'C:\\Users\\Panupong Jindarat\\Documents\\GitHub\\automation\\result'\n",
    "end = r'C:\\Users\\Panupong Jindarat\\Documents\\GitHub\\automation\\result_2'\n",
    "\n",
    "# # convert \"abcd.docx\" file to pdf in the same folder\n",
    "# docx2pdf.convert(\"abcd.docx\")\n",
    "\n",
    "# convert \"abcd.docx\" file to pdf with custom name and folder location\n",
    "docx2pdf.convert(start, end)\n",
    "\n",
    "# # convert all the docx files in a folder. \n",
    "# # Output files will also be in the same folder\n",
    "# docx2pdf.convert(\"inp/\")\n",
    "\n",
    "# # convert all the docx files in a folder and keep the pdfs in another folder\n",
    "# docx2pdf.convert(\"inp/\", \"out/\")"
   ]
  },
  {
   "cell_type": "code",
   "execution_count": null,
   "metadata": {},
   "outputs": [],
   "source": []
  },
  {
   "cell_type": "code",
   "execution_count": null,
   "metadata": {},
   "outputs": [],
   "source": []
  }
 ],
 "metadata": {
  "kernelspec": {
   "display_name": "streamlitenv",
   "language": "python",
   "name": "python3"
  },
  "language_info": {
   "codemirror_mode": {
    "name": "ipython",
    "version": 3
   },
   "file_extension": ".py",
   "mimetype": "text/x-python",
   "name": "python",
   "nbconvert_exporter": "python",
   "pygments_lexer": "ipython3",
   "version": "3.12.2"
  }
 },
 "nbformat": 4,
 "nbformat_minor": 2
}
